{
 "cells": [
  {
   "cell_type": "markdown",
   "id": "04af20e3",
   "metadata": {},
   "source": [
    "<h1><center>Telecommunications Customer Data Analysis Dashboard</center></h1>"
   ]
  },
  {
   "cell_type": "markdown",
   "id": "6169ec52",
   "metadata": {},
   "source": [
    "### Please select attributes to query and compare:\n",
    "\n",
    "#### 1. Comparing attributes with churn"
   ]
  },
  {
   "cell_type": "code",
   "execution_count": 1,
   "id": "016c584b",
   "metadata": {
    "scrolled": true
   },
   "outputs": [
    {
     "data": {
      "application/vnd.jupyter.widget-view+json": {
       "model_id": "5aa356795e944ab484bcbac83c038b2f",
       "version_major": 2,
       "version_minor": 0
      },
      "text/plain": [
       "interactive(children=(Dropdown(description='Attribute', options=('gender', 'SeniorCitizen', 'Partner', 'Depend…"
      ]
     },
     "metadata": {},
     "output_type": "display_data"
    },
    {
     "data": {
      "text/plain": [
       "<function __main__.plot_attribute_cat(Attribute)>"
      ]
     },
     "execution_count": 1,
     "metadata": {},
     "output_type": "execute_result"
    }
   ],
   "source": [
    "# Import widget tools\n",
    "\n",
    "import pandas as pd\n",
    "import numpy as np\n",
    "import matplotlib.pyplot as plt\n",
    "import seaborn as sns\n",
    "import ipywidgets as widgets\n",
    "from ipywidgets import interact, interactive, fixed, interact_manual\n",
    "\n",
    "# Load data\n",
    "\n",
    "dash_df = pd.read_csv(\"CleanedTelcoData.csv\")\n",
    "cont_df = pd.read_csv(\"TelecomCustomerChurnDataset.csv\")\n",
    "widget_df = dash_df.copy()\n",
    "widget_df.drop(['Churn'], axis=1, inplace=True)\n",
    "\n",
    "cont_df['SeniorCitizen'] = cont_df['SeniorCitizen'].apply(str).str.replace(\"1\", \"Yes\")\n",
    "cont_df['SeniorCitizen'] = cont_df['SeniorCitizen'].apply(str).str.replace(\"0\",\"No\")\n",
    "\n",
    "# Plot the attributes selected in the drop down\n",
    "\n",
    "def plot_attribute_cat(Attribute):\n",
    "\n",
    "        # Create a catplot with the attribute the user selected\n",
    "    \n",
    "        catplot = sns.catplot(x=Attribute, hue=\"Churn\",\n",
    "                data=dash_df, kind=\"count\",\n",
    "                height=8, aspect=1)\n",
    "        plt.title(Attribute + \" vs. Churn\")\n",
    "        plt.ylabel(\"Customer Count\")\n",
    "        plt.xlabel(Attribute)\n",
    "        \n",
    "# Create dropdown to hold data features and use in plotting function\n",
    "\n",
    "widgets.interact(plot_attribute_cat, Attribute=[\"gender\", \"SeniorCitizen\", \"Partner\", \"Dependents\", \"PhoneService\",\n",
    "\"MultipleLines\", \"InternetService\",\"OnlineSecurity\", \"OnlineBackup\", \"DeviceProtection\", \"TechSupport\", \"StreamingTV\",\n",
    "\"StreamingMovies\", \"Contract\", \"PaperlessBilling\", \"PaymentMethod\", \"TenureRange\", \"MonthlyChargesRange\"])"
   ]
  },
  {
   "cell_type": "markdown",
   "id": "5c5d933a",
   "metadata": {},
   "source": [
    "#### 2. Comparing two categorical attributes with a continuous attribute"
   ]
  },
  {
   "cell_type": "code",
   "execution_count": 2,
   "id": "791afa3b",
   "metadata": {},
   "outputs": [
    {
     "data": {
      "application/vnd.jupyter.widget-view+json": {
       "model_id": "1c2f1ccb1c1445328cc32a736a667e6e",
       "version_major": 2,
       "version_minor": 0
      },
      "text/plain": [
       "interactive(children=(Dropdown(description='Attribute_A', options=('gender', 'SeniorCitizen', 'Partner', 'Depe…"
      ]
     },
     "metadata": {},
     "output_type": "display_data"
    },
    {
     "data": {
      "text/plain": [
       "<function __main__.plot_attribute_strip(Attribute_A, Attribute_B, Attribute_C)>"
      ]
     },
     "execution_count": 2,
     "metadata": {},
     "output_type": "execute_result"
    }
   ],
   "source": [
    "# Create a stripplot with the attributes the user selected\n",
    "\n",
    "def plot_attribute_strip(Attribute_A, Attribute_B, Attribute_C):\n",
    "    \n",
    "    if Attribute_A == Attribute_C:\n",
    "        \n",
    "        print(\"Attribute_A and Attribute_C should be different categorical attributes\")\n",
    "    \n",
    "    else:\n",
    "        \n",
    "        plt.figure(figsize=(16, 16))\n",
    "        sns.stripplot(x=Attribute_A, y=Attribute_B, hue=Attribute_C, size = 4, data=cont_df)\n",
    "        plt.title(Attribute_A + \" vs. \" + Attribute_B + \" vs. \" + Attribute_C)\n",
    "        plt.ylabel(Attribute_B)\n",
    "        plt.xlabel(Attribute_A)\n",
    "            \n",
    "# Create new dropdown widgets to allow more flexibility with stripplot\n",
    "\n",
    "widgets.interact(plot_attribute_strip, Attribute_A=[\"gender\", \"SeniorCitizen\", \"Partner\", \"Dependents\", \"PhoneService\",\n",
    "\"MultipleLines\", \"InternetService\",\"OnlineSecurity\", \"OnlineBackup\", \"DeviceProtection\", \"TechSupport\", \"StreamingTV\",\n",
    "\"StreamingMovies\", \"Contract\", \"PaperlessBilling\", \"PaymentMethod\", \"Churn\"], Attribute_B=[\"tenure\", \"MonthlyCharges\"],  \n",
    "Attribute_C=[\"gender\", \"SeniorCitizen\", \"Partner\", \"Dependents\", \"PhoneService\", \"MultipleLines\", \"InternetService\",\n",
    "\"OnlineSecurity\", \"OnlineBackup\", \"DeviceProtection\", \"TechSupport\", \"StreamingTV\", \"StreamingMovies\", \"Contract\", \n",
    "\"PaperlessBilling\", \"PaymentMethod\", \"Churn\"])"
   ]
  },
  {
   "cell_type": "markdown",
   "id": "5f429979",
   "metadata": {},
   "source": [
    "#### 3. Box plot of categorical attributes"
   ]
  },
  {
   "cell_type": "code",
   "execution_count": 3,
   "id": "af0b01f7",
   "metadata": {},
   "outputs": [
    {
     "data": {
      "application/vnd.jupyter.widget-view+json": {
       "model_id": "fa1dc423992941c08cba86a34dbe0e0d",
       "version_major": 2,
       "version_minor": 0
      },
      "text/plain": [
       "interactive(children=(Dropdown(description='Attribute_A', options=('gender', 'SeniorCitizen', 'Partner', 'Depe…"
      ]
     },
     "metadata": {},
     "output_type": "display_data"
    },
    {
     "data": {
      "text/plain": [
       "<function __main__.plot_attribute_box(Attribute_A, Attribute_B, Attribute_C)>"
      ]
     },
     "execution_count": 3,
     "metadata": {},
     "output_type": "execute_result"
    }
   ],
   "source": [
    "def plot_attribute_box(Attribute_A, Attribute_B, Attribute_C):\n",
    "\n",
    "    if Attribute_A == Attribute_C:\n",
    "        \n",
    "        print(\"Attribute_A and Attribute_C should be different categorical attributes\")\n",
    "    \n",
    "    else:\n",
    "        plt.figure(figsize=(12, 8))\n",
    "        ax = sns.boxplot(x=Attribute_A, y=Attribute_B, hue=Attribute_C,\n",
    "                 data=cont_df, dodge=False)\n",
    "        plt.title(Attribute_A + \" vs. \" + Attribute_B + \" vs. \" + Attribute_C)\n",
    "\n",
    "# Create new dropdown widgets to allow more flexibility with stripplot\n",
    "\n",
    "widgets.interact(plot_attribute_box, Attribute_A=[\"gender\", \"SeniorCitizen\", \"Partner\", \"Dependents\", \"PhoneService\",\n",
    "\"MultipleLines\", \"InternetService\",\"OnlineSecurity\", \"OnlineBackup\", \"DeviceProtection\", \"TechSupport\", \"StreamingTV\",\n",
    "\"StreamingMovies\", \"Contract\", \"PaperlessBilling\", \"PaymentMethod\", \"Churn\"], Attribute_B=[\"tenure\", \"MonthlyCharges\"],  \n",
    "Attribute_C=[\"gender\", \"SeniorCitizen\", \"Partner\", \"Dependents\", \"PhoneService\", \"MultipleLines\", \"InternetService\",\n",
    "\"OnlineSecurity\", \"OnlineBackup\", \"DeviceProtection\", \"TechSupport\", \"StreamingTV\", \"StreamingMovies\", \"Contract\", \n",
    "\"PaperlessBilling\", \"PaymentMethod\", \"Churn\"])"
   ]
  }
 ],
 "metadata": {
  "kernelspec": {
   "display_name": "Python 3",
   "language": "python",
   "name": "python3"
  },
  "language_info": {
   "codemirror_mode": {
    "name": "ipython",
    "version": 3
   },
   "file_extension": ".py",
   "mimetype": "text/x-python",
   "name": "python",
   "nbconvert_exporter": "python",
   "pygments_lexer": "ipython3",
   "version": "3.9.6"
  }
 },
 "nbformat": 4,
 "nbformat_minor": 5
}
